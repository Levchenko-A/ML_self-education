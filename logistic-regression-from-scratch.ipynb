{
 "cells": [
  {
   "cell_type": "markdown",
   "metadata": {},
   "source": [
    "# Logistic Regression from scratch"
   ]
  },
  {
   "cell_type": "markdown",
   "metadata": {
    "_cell_guid": "b1076dfc-b9ad-4769-8c92-a6c4dae69d19",
    "_uuid": "8f2839f25d086af736a60e9eeb907d3b93b6e0e5"
   },
   "source": [
    "After finishing one of the courses I want to recap wy knowledge and implement Logistic Regression from scratch.$\\newline$\n",
    "At first let's import all libraries that we need for this task:"
   ]
  },
  {
   "cell_type": "code",
   "execution_count": 1,
   "metadata": {
    "execution": {
     "iopub.execute_input": "2023-04-21T14:15:03.704194Z",
     "iopub.status.busy": "2023-04-21T14:15:03.703684Z",
     "iopub.status.idle": "2023-04-21T14:15:03.711952Z",
     "shell.execute_reply": "2023-04-21T14:15:03.710178Z",
     "shell.execute_reply.started": "2023-04-21T14:15:03.704151Z"
    }
   },
   "outputs": [],
   "source": [
    "import numpy as np\n",
    "import matplotlib.pyplot as plt\n",
    "from sklearn.datasets import make_classification\n",
    "import copy"
   ]
  },
  {
   "cell_type": "markdown",
   "metadata": {
    "execution": {
     "iopub.execute_input": "2023-04-21T10:26:21.268489Z",
     "iopub.status.busy": "2023-04-21T10:26:21.268071Z",
     "iopub.status.idle": "2023-04-21T10:26:21.276460Z",
     "shell.execute_reply": "2023-04-21T10:26:21.274963Z",
     "shell.execute_reply.started": "2023-04-21T10:26:21.268456Z"
    }
   },
   "source": [
    "Let's generate some data for Logistic Regression and visualize it."
   ]
  },
  {
   "cell_type": "code",
   "execution_count": 2,
   "metadata": {
    "execution": {
     "iopub.execute_input": "2023-04-21T14:15:04.522255Z",
     "iopub.status.busy": "2023-04-21T14:15:04.521806Z",
     "iopub.status.idle": "2023-04-21T14:15:05.249742Z",
     "shell.execute_reply": "2023-04-21T14:15:05.247983Z",
     "shell.execute_reply.started": "2023-04-21T14:15:04.522221Z"
    },
    "scrolled": true
   },
   "outputs": [
    {
     "data": {
      "text/plain": [
       "<matplotlib.collections.PathCollection at 0x1c6e5f192b0>"
      ]
     },
     "execution_count": 2,
     "metadata": {},
     "output_type": "execute_result"
    },
    {
     "data": {
      "image/png": "[encoded data removed]",
      "text/plain": [
       "<Figure size 720x360 with 1 Axes>"
      ]
     },
     "metadata": {
      "needs_background": "light"
     },
     "output_type": "display_data"
    }
   ],
   "source": [
    "X, y = make_classification(n_samples=60, n_features=1,n_redundant=0,n_informative=1,n_classes=2,n_clusters_per_class=1,random_state=0)\n",
    "X= X+2\n",
    "fig,ax = plt.subplots(1,1,figsize=(10,5))\n",
    "ax.scatter(X[y==1], y[y==1], marker='x', s=80, c = 'red')\n",
    "ax.scatter(X[y==0], y[y==0], marker='o', s=100, facecolors='none', edgecolors='blue',lw=3)"
   ]
  },
  {
   "cell_type": "markdown",
   "metadata": {},
   "source": [
    "Logistic Regression uses formula called $sigmoid$ :\n",
    "$$g(z) = \\frac{1}{1+e^{-z}}$$\n",
    "Where $z$ is the output of the Linear Regression:\n",
    "$$z = f_{\\mathbf{w},b}(\\mathbf{x}^{(i)}) =\\mathbf{w} \\cdot \\mathbf{x}^{(i)} + b $$"
   ]
  },
  {
   "cell_type": "code",
   "execution_count": 3,
   "metadata": {
    "execution": {
     "iopub.execute_input": "2023-04-21T13:54:41.292914Z",
     "iopub.status.busy": "2023-04-21T13:54:41.292251Z",
     "iopub.status.idle": "2023-04-21T13:54:41.301554Z",
     "shell.execute_reply": "2023-04-21T13:54:41.299202Z",
     "shell.execute_reply.started": "2023-04-21T13:54:41.292863Z"
    }
   },
   "outputs": [],
   "source": [
    "def sigmoid(z):\n",
    "    sigm = 1/(1+np.exp(-z))\n",
    "    return sigm"
   ]
  },
  {
   "cell_type": "markdown",
   "metadata": {},
   "source": [
    "The cost function for Logistic regression is:\n",
    "$$ J(\\mathbf{w},b) = \\frac{1}{m} \\sum_{i=0}^{m-1} \\left[ loss(f_{\\mathbf{w},b}(\\mathbf{x}^{(i)}), y^{(i)}) \\right]$$\n",
    "Where $loss$ equals to:\n",
    "    $$loss(f_{\\mathbf{w},b}(\\mathbf{x}^{(i)}), y^{(i)}) = (-y^{(i)} \\log\\left(f_{\\mathbf{w},b}\\left( \\mathbf{x}^{(i)} \\right) \\right) - \\left( 1 - y^{(i)}\\right) \\log \\left( 1 - f_{\\mathbf{w},b}\\left( \\mathbf{x}^{(i)} \\right) \\right)$$"
   ]
  },
  {
   "cell_type": "code",
   "execution_count": 4,
   "metadata": {
    "execution": {
     "iopub.execute_input": "2023-04-21T13:54:41.307727Z",
     "iopub.status.busy": "2023-04-21T13:54:41.306526Z",
     "iopub.status.idle": "2023-04-21T13:54:41.318306Z",
     "shell.execute_reply": "2023-04-21T13:54:41.316124Z",
     "shell.execute_reply.started": "2023-04-21T13:54:41.307648Z"
    }
   },
   "outputs": [],
   "source": [
    "def cost_function(X,y,w,b):\n",
    "    total_cost = 0.\n",
    "    m = X.shape[0]\n",
    "    for i in range(m):\n",
    "        z = np.dot(X[i],w)+b\n",
    "        g = sigmoid(z)\n",
    "        total_cost += -y[i]*np.log(g) - (1-y[i])*np.log(1-g)\n",
    "    total_cost/=m    \n",
    "    return total_cost"
   ]
  },
  {
   "cell_type": "markdown",
   "metadata": {},
   "source": [
    "Gradient descent algorithm is quite similar to Linear Regression's - we should iteratively simultaneously change our parameters $w$ and $b$ until we reach the convergence. And one iteration equals to:\n",
    "$$\\begin{align*}\n",
    "&  \\; \\; \\;w_j = w_j -  \\alpha \\frac{\\partial J(\\mathbf{w},b)}{\\partial w_j} \\; & \\text{for j := 0..n-1} \\\\ \n",
    "&  \\; \\; \\;  \\; \\;b = b -  \\alpha \\frac{\\partial J(\\mathbf{w},b)}{\\partial b} \\\\\n",
    "\\end{align*}$$\n",
    "\n",
    "The only difference we have - is in the gradient (partial derivatives) here:\n",
    "$$\\begin{align*}\n",
    "\\frac{\\partial J(\\mathbf{w},b)}{\\partial w_j}  &= \\frac{1}{m} \\sum\\limits_{i = 0}^{m-1} (f_{\\mathbf{w},b}(\\mathbf{x}^{(i)}) - y^{(i)})x_{j}^{(i)} \\\\\n",
    "\\frac{\\partial J(\\mathbf{w},b)}{\\partial b}  &= \\frac{1}{m} \\sum\\limits_{i = 0}^{m-1} (f_{\\mathbf{w},b}(\\mathbf{x}^{(i)}) - y^{(i)})  \n",
    "\\end{align*}$$\n",
    "beacuse here $f_{\\mathbf{w},b}(\\mathbf{x}^{(i)})$ is our $g(z)$ - sigmoid function described earlier."
   ]
  },
  {
   "cell_type": "code",
   "execution_count": 5,
   "metadata": {
    "execution": {
     "iopub.execute_input": "2023-04-21T13:54:41.321591Z",
     "iopub.status.busy": "2023-04-21T13:54:41.320945Z",
     "iopub.status.idle": "2023-04-21T13:54:41.335103Z",
     "shell.execute_reply": "2023-04-21T13:54:41.332918Z",
     "shell.execute_reply.started": "2023-04-21T13:54:41.321529Z"
    }
   },
   "outputs": [],
   "source": [
    "def compute_gradient(X,y,w,b):\n",
    "    m,n = X.shape\n",
    "    dJ_db = 0.\n",
    "    dJ_dw = np.zeros((n,))\n",
    "    for i in range(m):\n",
    "        z = np.dot(X[i],w)+b\n",
    "        g = sigmoid(z)\n",
    "        error = g - y[i]\n",
    "        for j in range(n):\n",
    "            dJ_dw[j]+=error*X[i,j]\n",
    "        dJ_db+=error\n",
    "    dJ_db/=m\n",
    "    dJ_dw/=m\n",
    "    return dJ_db,dJ_dw"
   ]
  },
  {
   "cell_type": "code",
   "execution_count": 6,
   "metadata": {
    "execution": {
     "iopub.execute_input": "2023-04-21T13:54:41.341583Z",
     "iopub.status.busy": "2023-04-21T13:54:41.340735Z",
     "iopub.status.idle": "2023-04-21T13:54:41.352690Z",
     "shell.execute_reply": "2023-04-21T13:54:41.351633Z",
     "shell.execute_reply.started": "2023-04-21T13:54:41.341513Z"
    }
   },
   "outputs": [],
   "source": [
    "def gradient_descent(X,y,w,b,epsilon,alpha):\n",
    "    old_cost = cost_function(X,y,w,b)\n",
    "    convergence = False\n",
    "    J_history = []\n",
    "    while convergence == False:\n",
    "        dJ_db, dJ_dw = compute_gradient(X,y,w,b)\n",
    "        temp_w = w - alpha*dJ_dw\n",
    "        temp_b = b - alpha*dJ_db\n",
    "        new_cost = cost_function(X,y,temp_w,temp_b)\n",
    "        if old_cost - new_cost <= epsilon:\n",
    "            convergence = True\n",
    "        else:\n",
    "            old_cost = new_cost\n",
    "            w = temp_w\n",
    "            b = temp_b\n",
    "        J_history.append( cost_function(X, y, w, b))\n",
    "    return b,w,J_history"
   ]
  },
  {
   "cell_type": "markdown",
   "metadata": {},
   "source": [
    "Here we will create a $predict$ fuction. The most interesting part of this function is $decision$ $boundary$ whch we can change to make or predictions more aligned with the purposes of the prediction. For example:if we are making a prediction if tumor is malignant - we don't want to rake a risk and set our $decision$ $boundary$ lower, beacuse \"false positive\" prediction will cause less damage to the person than \"false negative\"."
   ]
  },
  {
   "cell_type": "code",
   "execution_count": 7,
   "metadata": {
    "execution": {
     "iopub.execute_input": "2023-04-21T14:01:17.275195Z",
     "iopub.status.busy": "2023-04-21T14:01:17.274708Z",
     "iopub.status.idle": "2023-04-21T14:01:17.283083Z",
     "shell.execute_reply": "2023-04-21T14:01:17.281771Z",
     "shell.execute_reply.started": "2023-04-21T14:01:17.275156Z"
    }
   },
   "outputs": [],
   "source": [
    "def predict(X, w, b,decision_boundary): \n",
    "    m, n = X.shape   \n",
    "    p = np.zeros(m)\n",
    "    for i in range(m):   \n",
    "        z_wb = np.dot(X[i],w)+b\n",
    "        f_wb = sigmoid(z_wb)\n",
    "        p[i] = f_wb\n",
    "    p = p>decision_boundary\n",
    "    return p"
   ]
  },
  {
   "cell_type": "markdown",
   "metadata": {},
   "source": [
    "Here we'll find our parameters, make predictions based on a trainning set and gather some data fo further visualization:"
   ]
  },
  {
   "cell_type": "code",
   "execution_count": 8,
   "metadata": {
    "execution": {
     "iopub.execute_input": "2023-04-21T14:03:58.187307Z",
     "iopub.status.busy": "2023-04-21T14:03:58.186869Z",
     "iopub.status.idle": "2023-04-21T14:03:58.203899Z",
     "shell.execute_reply": "2023-04-21T14:03:58.202425Z",
     "shell.execute_reply.started": "2023-04-21T14:03:58.187273Z"
    },
    "scrolled": true
   },
   "outputs": [
    {
     "name": "stdout",
     "output_type": "stream",
     "text": [
      "b -3.69144107347565\n",
      "w [2.19235193]\n"
     ]
    }
   ],
   "source": [
    "m,n =X.shape\n",
    "w = np.zeros((n,))\n",
    "b = 0.\n",
    "epsilon = 1e-6\n",
    "alpha = 1e-3\n",
    "decision_boundary = 0.6\n",
    "b,w,J_hist_1 = gradient_descent(X,y,w,b,epsilon,alpha)\n",
    "g = np.ones((m,))\n",
    "z = np.ones((m,))\n",
    "\n",
    "for i in range(m):\n",
    "    pred = b + np.dot(w, X[i])\n",
    "    z[i] = pred\n",
    "    g[i] = 1/(1+np.exp(-pred))\n",
    "    \n",
    "pred_y = predict(X, w, b,decision_boundary)\n",
    "print('b',b)\n",
    "print('w',w)"
   ]
  },
  {
   "cell_type": "markdown",
   "metadata": {},
   "source": [
    "And some visualization routine:"
   ]
  },
  {
   "cell_type": "code",
   "execution_count": 9,
   "metadata": {},
   "outputs": [
    {
     "data": {
      "image/png": "[encoded data removed]",
      "text/plain": [
       "<Figure size 1152x432 with 1 Axes>"
      ]
     },
     "metadata": {
      "needs_background": "light"
     },
     "output_type": "display_data"
    }
   ],
   "source": [
    "plt.figure(figsize=(16,6))\n",
    "plt.xlabel(\"x values\")\n",
    "plt.ylabel(\"y values\")\n",
    "plt.plot(X,y,\"b.\",label = \"Generated data\")\n",
    "plt.plot(X,z)\n",
    "plt.plot(X,pred_y,'r+',label = \"Predicted data\", markersize=20)\n",
    "plt.ylim((-0.1,1.1))\n",
    "copy_X,g = zip(*sorted(zip(copy.deepcopy(X),g)))\n",
    "plt.plot(copy_X,g)\n",
    "plt.axhline(y=0.6,linestyle='--',label = \"Decision boundary\")\n",
    "plt.legend()\n",
    "plt.show()"
   ]
  },
  {
   "cell_type": "markdown",
   "metadata": {},
   "source": [
    "And also let's find out what is the accuracy of our model based on training data:"
   ]
  },
  {
   "cell_type": "code",
   "execution_count": 10,
   "metadata": {},
   "outputs": [
    {
     "data": {
      "text/plain": [
       "0.95"
      ]
     },
     "execution_count": 10,
     "metadata": {},
     "output_type": "execute_result"
    }
   ],
   "source": [
    "np.count_nonzero(pred_y==y)/y.size"
   ]
  },
  {
   "cell_type": "markdown",
   "metadata": {},
   "source": [
    "Look's like it works properly. If someone will find any errors - I'll be grateful to see the remarks in the comments."
   ]
  }
 ],
 "metadata": {
  "kernelspec": {
   "display_name": "Python 3 (ipykernel)",
   "language": "python",
   "name": "python3"
  },
  "language_info": {
   "codemirror_mode": {
    "name": "ipython",
    "version": 3
   },
   "file_extension": ".py",
   "mimetype": "text/x-python",
   "name": "python",
   "nbconvert_exporter": "python",
   "pygments_lexer": "ipython3",
   "version": "3.9.12"
  }
 },
 "nbformat": 4,
 "nbformat_minor": 4
}
